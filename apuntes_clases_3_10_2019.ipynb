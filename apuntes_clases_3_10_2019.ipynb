{
  "nbformat": 4,
  "nbformat_minor": 0,
  "metadata": {
    "colab": {
      "name": "apuntes_clases_3/10/2019.ipynb",
      "provenance": [],
      "include_colab_link": true
    },
    "kernelspec": {
      "name": "python3",
      "display_name": "Python 3"
    }
  },
  "cells": [
    {
      "cell_type": "markdown",
      "metadata": {
        "id": "view-in-github",
        "colab_type": "text"
      },
      "source": [
        "<a href=\"https://colab.research.google.com/github/JuliusNK/Codigo/blob/master/apuntes_clases_3_10_2019.ipynb\" target=\"_parent\"><img src=\"https://colab.research.google.com/assets/colab-badge.svg\" alt=\"Open In Colab\"/></a>"
      ]
    },
    {
      "cell_type": "code",
      "metadata": {
        "id": "1e8q2UL12KWk",
        "colab_type": "code",
        "outputId": "0062e58e-38c9-4abb-ccbf-18a46440b05d",
        "colab": {
          "base_uri": "https://localhost:8080/",
          "height": 35
        }
      },
      "source": [
        "(1,6,4,3,5)[-1]"
      ],
      "execution_count": 0,
      "outputs": [
        {
          "output_type": "execute_result",
          "data": {
            "text/plain": [
              "5"
            ]
          },
          "metadata": {
            "tags": []
          },
          "execution_count": 3
        }
      ]
    },
    {
      "cell_type": "code",
      "metadata": {
        "id": "VRqpW1dp2s5y",
        "colab_type": "code",
        "outputId": "c063a212-70a0-453d-e8ce-a73ec2d8bf56",
        "colab": {
          "base_uri": "https://localhost:8080/",
          "height": 35
        }
      },
      "source": [
        "indices = {\"nom\":[\"BUENA VISTA\",\"LIMA\",{\"hola\":[2,6,5]}]}\n",
        "indices[\"nom\"][2][\"hola\"]\n"
      ],
      "execution_count": 0,
      "outputs": [
        {
          "output_type": "execute_result",
          "data": {
            "text/plain": [
              "[2, 6, 5]"
            ]
          },
          "metadata": {
            "tags": []
          },
          "execution_count": 13
        }
      ]
    },
    {
      "cell_type": "code",
      "metadata": {
        "id": "i9W5i0Yk34db",
        "colab_type": "code",
        "colab": {}
      },
      "source": [
        "# INDENTACION: Es la forma de escribir en python con los \":\" y la sangria\n"
      ],
      "execution_count": 0,
      "outputs": []
    },
    {
      "cell_type": "code",
      "metadata": {
        "id": "dU1HREBy5Vuv",
        "colab_type": "code",
        "outputId": "4d34707d-0420-46a7-e397-8be629a38f2b",
        "colab": {
          "base_uri": "https://localhost:8080/",
          "height": 35
        }
      },
      "source": [
        "temp = [15, 22, 30]\n",
        "i=0\n",
        "val = temp[i]\n",
        "\n",
        "if 12 <= val < 22: # Tambien se puede hacer esto\n",
        "    print(\"El medio ambiente esta muy frío!!!\")\n",
        "elif val == 22:\n",
        "    print(\"El medio ambiente presenta condiciones normales\")\n",
        "elif val > 22:\n",
        "    print(\"El medio ambiente está cálido!!!!\")\n",
        "else: (\" es otro planeta\")"
      ],
      "execution_count": 0,
      "outputs": [
        {
          "output_type": "stream",
          "text": [
            "El medio ambiente esta muy frío!!!\n"
          ],
          "name": "stdout"
        }
      ]
    },
    {
      "cell_type": "code",
      "metadata": {
        "id": "eVpoIQYQ7ZfP",
        "colab_type": "code",
        "outputId": "3852a7a3-dce7-4604-e91b-728eae775476",
        "colab": {
          "base_uri": "https://localhost:8080/",
          "height": 199
        }
      },
      "source": [
        "\n",
        "for numero in list(range(10)):\n",
        "  if numero >= 0:\n",
        "    if numero == 0:\n",
        "        print(\"Cero\")\n",
        "    else: \n",
        "        print(\"Es un número positivo\")\n",
        "  else: \n",
        "    print(\"Es un número negativo\")\n",
        "  \n"
      ],
      "execution_count": 0,
      "outputs": [
        {
          "output_type": "stream",
          "text": [
            "Cero\n",
            "Es un número positivo\n",
            "Es un número positivo\n",
            "Es un número positivo\n",
            "Es un número positivo\n",
            "Es un número positivo\n",
            "Es un número positivo\n",
            "Es un número positivo\n",
            "Es un número positivo\n",
            "Es un número positivo\n"
          ],
          "name": "stdout"
        }
      ]
    },
    {
      "cell_type": "code",
      "metadata": {
        "id": "vU93YKWQ5cin",
        "colab_type": "code",
        "outputId": "1f6009aa-c144-498a-95a7-0171632b4b4a",
        "colab": {
          "base_uri": "https://localhost:8080/",
          "height": 163
        }
      },
      "source": [
        "for curva in [-100,200,250,600,850,900,1000]:\n",
        "  if  curva % 200 == 0:\n",
        "    print(\"CURVA MAESTRA\")\n",
        "  if curva < 0:\n",
        "    print(\"DEPRESION\")\n",
        "  if curva % 200 != 0:\n",
        "    print(\"CURVA SECUNDARIA\")"
      ],
      "execution_count": 0,
      "outputs": [
        {
          "output_type": "stream",
          "text": [
            "DEPRESION\n",
            "CURVA SECUNDARIA\n",
            "CURVA MAESTRA\n",
            "CURVA SECUNDARIA\n",
            "CURVA MAESTRA\n",
            "CURVA SECUNDARIA\n",
            "CURVA SECUNDARIA\n",
            "CURVA MAESTRA\n"
          ],
          "name": "stdout"
        }
      ]
    },
    {
      "cell_type": "code",
      "metadata": {
        "id": "necHfJpz9enb",
        "colab_type": "code",
        "outputId": "fa194745-d85a-4b40-83c8-ff59371d702b",
        "colab": {
          "base_uri": "https://localhost:8080/",
          "height": 35
        }
      },
      "source": [
        "200 % 200"
      ],
      "execution_count": 0,
      "outputs": [
        {
          "output_type": "execute_result",
          "data": {
            "text/plain": [
              "0"
            ]
          },
          "metadata": {
            "tags": []
          },
          "execution_count": 24
        }
      ]
    },
    {
      "cell_type": "code",
      "metadata": {
        "id": "oTX3ejUe-nvJ",
        "colab_type": "code",
        "outputId": "76bea2c8-3d0d-4ac0-ce1e-06fc77a49a69",
        "colab": {
          "base_uri": "https://localhost:8080/",
          "height": 34
        }
      },
      "source": [
        "# cociente entero de una division\n",
        "200 // 199 "
      ],
      "execution_count": 33,
      "outputs": [
        {
          "output_type": "execute_result",
          "data": {
            "text/plain": [
              "1"
            ]
          },
          "metadata": {
            "tags": []
          },
          "execution_count": 33
        }
      ]
    },
    {
      "cell_type": "code",
      "metadata": {
        "id": "OWuQ--dOAdCs",
        "colab_type": "code",
        "colab": {
          "base_uri": "https://localhost:8080/",
          "height": 34
        },
        "outputId": "a2765954-835f-427c-94f4-3c6b620e52bf"
      },
      "source": [
        "# Bucles\n",
        "lista = [1,2,4,5,6,2]\n",
        "for i in lista:\n",
        "  y = i ** 2\n",
        "  print(y, end = \" \")"
      ],
      "execution_count": 37,
      "outputs": [
        {
          "output_type": "stream",
          "text": [
            "1 4 16 25 36 4 "
          ],
          "name": "stdout"
        }
      ]
    },
    {
      "cell_type": "code",
      "metadata": {
        "id": "dnxbfqGiBGJk",
        "colab_type": "code",
        "colab": {}
      },
      "source": [
        "range(50)\n",
        "range(10,20)\n",
        "for i in range(10):\n",
        "  print(i)\n",
        "  \n",
        "for i in range(0,-10):\n",
        "  print(i)\n",
        "for i in range(10):\n",
        "  print(i)  \n",
        "\n",
        "  "
      ],
      "execution_count": 0,
      "outputs": []
    },
    {
      "cell_type": "code",
      "metadata": {
        "id": "G6ElVXvZB26k",
        "colab_type": "code",
        "colab": {
          "base_uri": "https://localhost:8080/",
          "height": 731
        },
        "outputId": "c3287632-4774-4cbd-8768-c57d294b7507"
      },
      "source": [
        "for i in range(6):\n",
        "    print(\"*\"*i)\n",
        "for i in range(4,0,-1):\n",
        "    print(\"*\"*i)\n",
        "for i in range(2,6):\n",
        "    print(\"*\"*i)\n",
        "for i in range(4,0,-1):\n",
        "    print(\"*\"*i)\n",
        "for i in range(2,6):\n",
        "    print(\"*\"*i)\n",
        "for i in range(4,0,-1):\n",
        "    print(\"*\"*i)\n",
        "for i in range(2,6):\n",
        "    print(\"*\"*i)\n",
        "for i in range(4,0,-1):\n",
        "    print(\"*\"*i)\n",
        "for i in range(2,6):\n",
        "    print(\"*\"*i)\n",
        "for i in range(4,0,-1):\n",
        "    print(\"*\"*i)\n",
        " "
      ],
      "execution_count": 73,
      "outputs": [
        {
          "output_type": "stream",
          "text": [
            "\n",
            "*\n",
            "**\n",
            "***\n",
            "****\n",
            "*****\n",
            "****\n",
            "***\n",
            "**\n",
            "*\n",
            "**\n",
            "***\n",
            "****\n",
            "*****\n",
            "****\n",
            "***\n",
            "**\n",
            "*\n",
            "**\n",
            "***\n",
            "****\n",
            "*****\n",
            "****\n",
            "***\n",
            "**\n",
            "*\n",
            "**\n",
            "***\n",
            "****\n",
            "*****\n",
            "****\n",
            "***\n",
            "**\n",
            "*\n",
            "**\n",
            "***\n",
            "****\n",
            "*****\n",
            "****\n",
            "***\n",
            "**\n",
            "*\n"
          ],
          "name": "stdout"
        }
      ]
    },
    {
      "cell_type": "code",
      "metadata": {
        "id": "q0Ynu_BFDe-b",
        "colab_type": "code",
        "colab": {
          "base_uri": "https://localhost:8080/",
          "height": 34
        },
        "outputId": "b97e402b-b3ec-4fe8-ca59-4f05eef4e5e9"
      },
      "source": [
        "list(range(7,0,1))"
      ],
      "execution_count": 56,
      "outputs": [
        {
          "output_type": "execute_result",
          "data": {
            "text/plain": [
              "[]"
            ]
          },
          "metadata": {
            "tags": []
          },
          "execution_count": 56
        }
      ]
    },
    {
      "cell_type": "code",
      "metadata": {
        "id": "hil8u1UqDTEY",
        "colab_type": "code",
        "colab": {
          "base_uri": "https://localhost:8080/",
          "height": 34
        },
        "outputId": "0db33211-4b08-48d3-af1a-7968b3c398cb"
      },
      "source": [
        "list(range(7,0))"
      ],
      "execution_count": 53,
      "outputs": [
        {
          "output_type": "execute_result",
          "data": {
            "text/plain": [
              "[]"
            ]
          },
          "metadata": {
            "tags": []
          },
          "execution_count": 53
        }
      ]
    },
    {
      "cell_type": "code",
      "metadata": {
        "id": "SYnpTNkfB6h-",
        "colab_type": "code",
        "colab": {
          "base_uri": "https://localhost:8080/",
          "height": 221
        },
        "outputId": "5700d68f-7748-4aaf-c5bf-1aa52b2aa067"
      },
      "source": [
        "\n",
        "n = 12\n",
        "print(\"Tabla del 5\")\n",
        "for i in range(1,n):\n",
        "  print(\"5 X \" + str(i) + \" = \" + str(i * n))"
      ],
      "execution_count": 85,
      "outputs": [
        {
          "output_type": "stream",
          "text": [
            "Tabla del 5\n",
            "5 X 1 = 12\n",
            "5 X 2 = 24\n",
            "5 X 3 = 36\n",
            "5 X 4 = 48\n",
            "5 X 5 = 60\n",
            "5 X 6 = 72\n",
            "5 X 7 = 84\n",
            "5 X 8 = 96\n",
            "5 X 9 = 108\n",
            "5 X 10 = 120\n",
            "5 X 11 = 132\n"
          ],
          "name": "stdout"
        }
      ]
    },
    {
      "cell_type": "code",
      "metadata": {
        "id": "DLm7S7V4KvpG",
        "colab_type": "code",
        "colab": {
          "base_uri": "https://localhost:8080/",
          "height": 221
        },
        "outputId": "ec2f8326-a078-4709-a5e5-997ab8e2919e"
      },
      "source": [
        "\n",
        "n = 5\n",
        "print(\"Tabla del 5\")\n",
        "for i in range(1,12):\n",
        "  print(\"{} x {} = {}\".format(n,i,n*i))"
      ],
      "execution_count": 87,
      "outputs": [
        {
          "output_type": "stream",
          "text": [
            "Tabla del 5\n",
            "5 x 1 = 5\n",
            "5 x 2 = 10\n",
            "5 x 3 = 15\n",
            "5 x 4 = 20\n",
            "5 x 5 = 25\n",
            "5 x 6 = 30\n",
            "5 x 7 = 35\n",
            "5 x 8 = 40\n",
            "5 x 9 = 45\n",
            "5 x 10 = 50\n",
            "5 x 11 = 55\n"
          ],
          "name": "stdout"
        }
      ]
    },
    {
      "cell_type": "code",
      "metadata": {
        "id": "aRX2YQe6KngX",
        "colab_type": "code",
        "colab": {}
      },
      "source": [
        ""
      ],
      "execution_count": 0,
      "outputs": []
    },
    {
      "cell_type": "code",
      "metadata": {
        "id": "BDUjXQvGHgel",
        "colab_type": "code",
        "colab": {
          "base_uri": "https://localhost:8080/",
          "height": 1000
        },
        "outputId": "6739e8c6-40b2-47ab-8607-1072eb16d062"
      },
      "source": [
        "\n",
        "n = 12\n",
        "for j in range(12):\n",
        "  print(\"Tabla del \" + str(j) + \"\\n\")\n",
        "  for i in range(1,n):\n",
        "    print(str(j) + \" X \" + str(i) + \" = \" + str(i * j))"
      ],
      "execution_count": 92,
      "outputs": [
        {
          "output_type": "stream",
          "text": [
            "Tabla del 0\n",
            "\n",
            "0 X 1 = 0\n",
            "0 X 2 = 0\n",
            "0 X 3 = 0\n",
            "0 X 4 = 0\n",
            "0 X 5 = 0\n",
            "0 X 6 = 0\n",
            "0 X 7 = 0\n",
            "0 X 8 = 0\n",
            "0 X 9 = 0\n",
            "0 X 10 = 0\n",
            "0 X 11 = 0\n",
            "Tabla del 1\n",
            "\n",
            "1 X 1 = 1\n",
            "1 X 2 = 2\n",
            "1 X 3 = 3\n",
            "1 X 4 = 4\n",
            "1 X 5 = 5\n",
            "1 X 6 = 6\n",
            "1 X 7 = 7\n",
            "1 X 8 = 8\n",
            "1 X 9 = 9\n",
            "1 X 10 = 10\n",
            "1 X 11 = 11\n",
            "Tabla del 2\n",
            "\n",
            "2 X 1 = 2\n",
            "2 X 2 = 4\n",
            "2 X 3 = 6\n",
            "2 X 4 = 8\n",
            "2 X 5 = 10\n",
            "2 X 6 = 12\n",
            "2 X 7 = 14\n",
            "2 X 8 = 16\n",
            "2 X 9 = 18\n",
            "2 X 10 = 20\n",
            "2 X 11 = 22\n",
            "Tabla del 3\n",
            "\n",
            "3 X 1 = 3\n",
            "3 X 2 = 6\n",
            "3 X 3 = 9\n",
            "3 X 4 = 12\n",
            "3 X 5 = 15\n",
            "3 X 6 = 18\n",
            "3 X 7 = 21\n",
            "3 X 8 = 24\n",
            "3 X 9 = 27\n",
            "3 X 10 = 30\n",
            "3 X 11 = 33\n",
            "Tabla del 4\n",
            "\n",
            "4 X 1 = 4\n",
            "4 X 2 = 8\n",
            "4 X 3 = 12\n",
            "4 X 4 = 16\n",
            "4 X 5 = 20\n",
            "4 X 6 = 24\n",
            "4 X 7 = 28\n",
            "4 X 8 = 32\n",
            "4 X 9 = 36\n",
            "4 X 10 = 40\n",
            "4 X 11 = 44\n",
            "Tabla del 5\n",
            "\n",
            "5 X 1 = 5\n",
            "5 X 2 = 10\n",
            "5 X 3 = 15\n",
            "5 X 4 = 20\n",
            "5 X 5 = 25\n",
            "5 X 6 = 30\n",
            "5 X 7 = 35\n",
            "5 X 8 = 40\n",
            "5 X 9 = 45\n",
            "5 X 10 = 50\n",
            "5 X 11 = 55\n",
            "Tabla del 6\n",
            "\n",
            "6 X 1 = 6\n",
            "6 X 2 = 12\n",
            "6 X 3 = 18\n",
            "6 X 4 = 24\n",
            "6 X 5 = 30\n",
            "6 X 6 = 36\n",
            "6 X 7 = 42\n",
            "6 X 8 = 48\n",
            "6 X 9 = 54\n",
            "6 X 10 = 60\n",
            "6 X 11 = 66\n",
            "Tabla del 7\n",
            "\n",
            "7 X 1 = 7\n",
            "7 X 2 = 14\n",
            "7 X 3 = 21\n",
            "7 X 4 = 28\n",
            "7 X 5 = 35\n",
            "7 X 6 = 42\n",
            "7 X 7 = 49\n",
            "7 X 8 = 56\n",
            "7 X 9 = 63\n",
            "7 X 10 = 70\n",
            "7 X 11 = 77\n",
            "Tabla del 8\n",
            "\n",
            "8 X 1 = 8\n",
            "8 X 2 = 16\n",
            "8 X 3 = 24\n",
            "8 X 4 = 32\n",
            "8 X 5 = 40\n",
            "8 X 6 = 48\n",
            "8 X 7 = 56\n",
            "8 X 8 = 64\n",
            "8 X 9 = 72\n",
            "8 X 10 = 80\n",
            "8 X 11 = 88\n",
            "Tabla del 9\n",
            "\n",
            "9 X 1 = 9\n",
            "9 X 2 = 18\n",
            "9 X 3 = 27\n",
            "9 X 4 = 36\n",
            "9 X 5 = 45\n",
            "9 X 6 = 54\n",
            "9 X 7 = 63\n",
            "9 X 8 = 72\n",
            "9 X 9 = 81\n",
            "9 X 10 = 90\n",
            "9 X 11 = 99\n",
            "Tabla del 10\n",
            "\n",
            "10 X 1 = 10\n",
            "10 X 2 = 20\n",
            "10 X 3 = 30\n",
            "10 X 4 = 40\n",
            "10 X 5 = 50\n",
            "10 X 6 = 60\n",
            "10 X 7 = 70\n",
            "10 X 8 = 80\n",
            "10 X 9 = 90\n",
            "10 X 10 = 100\n",
            "10 X 11 = 110\n",
            "Tabla del 11\n",
            "\n",
            "11 X 1 = 11\n",
            "11 X 2 = 22\n",
            "11 X 3 = 33\n",
            "11 X 4 = 44\n",
            "11 X 5 = 55\n",
            "11 X 6 = 66\n",
            "11 X 7 = 77\n",
            "11 X 8 = 88\n",
            "11 X 9 = 99\n",
            "11 X 10 = 110\n",
            "11 X 11 = 121\n"
          ],
          "name": "stdout"
        }
      ]
    },
    {
      "cell_type": "code",
      "metadata": {
        "id": "GuScpjgxMAvL",
        "colab_type": "code",
        "colab": {
          "base_uri": "https://localhost:8080/",
          "height": 34
        },
        "outputId": "935b9c25-8a70-4f6b-8ba6-507054790abe"
      },
      "source": [
        "from random import randint\n",
        "# import random : simplemente inportar una libreria\n",
        "# from random import randint: queremos especificamente la funcion randint de ramdom\n"
      ],
      "execution_count": 100,
      "outputs": [
        {
          "output_type": "stream",
          "text": [
            "[2834, 451, 3162, 2918, 1393, 721, 3199, 3985, 483, 3533, 215, 2773, 3490, 2147, 1302, 3244, 2623, 454, 3013, 3295]\n"
          ],
          "name": "stdout"
        }
      ]
    },
    {
      "cell_type": "code",
      "metadata": {
        "id": "5u-RJ4-6ODAP",
        "colab_type": "code",
        "colab": {
          "base_uri": "https://localhost:8080/",
          "height": 428
        },
        "outputId": "39c49dc0-bbaa-4a66-8d0a-f99740bb4669"
      },
      "source": [
        "from random import randint\n",
        "curvas = {\"CURVA MAESTRA\":[], \"DEPRESION\":[], \"CURVA SECUNDARIA\":[]}\n",
        "value = []\n",
        "lista = [randint(-50,4000) for p in range(0,20)]\n",
        "print(lista)\n",
        "for curva in lista:\n",
        "  if  curva % 200 == 0:\n",
        "    print(\"CURVA MAESTRA\")\n",
        "    curvas[\"CURVA MAESTRA\"].append(curva)\n",
        "  if curva < 0:\n",
        "    print(\"DEPRESION\")\n",
        "    curvas[\"DEPRESION\"].append(curva)\n",
        "  if curva % 200 != 0:\n",
        "    print(\"CURVA SECUNDARIA\")\n",
        "    curvas[\"CURVA SECUNDARIA\"].append(curva)\n",
        "print(curvas)\n",
        "curvas.keys()\n"
      ],
      "execution_count": 126,
      "outputs": [
        {
          "output_type": "stream",
          "text": [
            "[3859, 3850, 1119, 1864, 3695, 715, 3099, 194, 2766, 476, 709, 3513, 3108, 2217, 2540, 200, 1699, 430, 3525, 1735]\n",
            "CURVA SECUNDARIA\n",
            "CURVA SECUNDARIA\n",
            "CURVA SECUNDARIA\n",
            "CURVA SECUNDARIA\n",
            "CURVA SECUNDARIA\n",
            "CURVA SECUNDARIA\n",
            "CURVA SECUNDARIA\n",
            "CURVA SECUNDARIA\n",
            "CURVA SECUNDARIA\n",
            "CURVA SECUNDARIA\n",
            "CURVA SECUNDARIA\n",
            "CURVA SECUNDARIA\n",
            "CURVA SECUNDARIA\n",
            "CURVA SECUNDARIA\n",
            "CURVA SECUNDARIA\n",
            "CURVA MAESTRA\n",
            "CURVA SECUNDARIA\n",
            "CURVA SECUNDARIA\n",
            "CURVA SECUNDARIA\n",
            "CURVA SECUNDARIA\n",
            "{'CURVA MAESTRA': [200], 'DEPRESION': [], 'CURVA SECUNDARIA': [3859, 3850, 1119, 1864, 3695, 715, 3099, 194, 2766, 476, 709, 3513, 3108, 2217, 2540, 1699, 430, 3525, 1735]}\n"
          ],
          "name": "stdout"
        },
        {
          "output_type": "execute_result",
          "data": {
            "text/plain": [
              "dict_keys(['CURVA MAESTRA', 'DEPRESION', 'CURVA SECUNDARIA'])"
            ]
          },
          "metadata": {
            "tags": []
          },
          "execution_count": 126
        }
      ]
    },
    {
      "cell_type": "code",
      "metadata": {
        "id": "iyiP-924Obgm",
        "colab_type": "code",
        "colab": {
          "base_uri": "https://localhost:8080/",
          "height": 34
        },
        "outputId": "979fb1eb-9eb7-42d5-c038-26059191b1a3"
      },
      "source": [
        ""
      ],
      "execution_count": 122,
      "outputs": [
        {
          "output_type": "execute_result",
          "data": {
            "text/plain": [
              "[1]"
            ]
          },
          "metadata": {
            "tags": []
          },
          "execution_count": 122
        }
      ]
    }
  ]
}