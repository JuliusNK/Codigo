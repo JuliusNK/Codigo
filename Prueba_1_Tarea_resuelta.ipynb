{
  "nbformat": 4,
  "nbformat_minor": 0,
  "metadata": {
    "colab": {
      "name": "Prueba_1_Tarea_resuelta.ipynb",
      "provenance": [],
      "collapsed_sections": [],
      "include_colab_link": true
    },
    "kernelspec": {
      "name": "python3",
      "display_name": "Python 3"
    }
  },
  "cells": [
    {
      "cell_type": "markdown",
      "metadata": {
        "id": "view-in-github",
        "colab_type": "text"
      },
      "source": [
        "<a href=\"https://colab.research.google.com/github/JuliusNK/Codigo/blob/master/Prueba_1_Tarea_resuelta.ipynb\" target=\"_parent\"><img src=\"https://colab.research.google.com/assets/colab-badge.svg\" alt=\"Open In Colab\"/></a>"
      ]
    },
    {
      "cell_type": "markdown",
      "metadata": {
        "id": "XVj8RvlXW-FT",
        "colab_type": "text"
      },
      "source": [
        "## Evaluación 1"
      ]
    },
    {
      "cell_type": "markdown",
      "metadata": {
        "id": "wNxBYdZrW3GZ",
        "colab_type": "text"
      },
      "source": [
        "**Ejercicio 1:**\n",
        "\n",
        "%%latex\n",
        "\\begin{eqnarray}\n",
        "\\frac{2^3+10/5}{15}\n",
        "\\end{eqnarray}\n"
      ]
    },
    {
      "cell_type": "code",
      "metadata": {
        "id": "kIbISJORfpw_",
        "colab_type": "code",
        "colab": {
          "base_uri": "https://localhost:8080/",
          "height": 34
        },
        "outputId": "55cefa18-dc05-4d98-ca50-b06f493d868f"
      },
      "source": [
        "(2**3 + 10/5)/15"
      ],
      "execution_count": 44,
      "outputs": [
        {
          "output_type": "execute_result",
          "data": {
            "text/plain": [
              "0.6666666666666666"
            ]
          },
          "metadata": {
            "tags": []
          },
          "execution_count": 44
        }
      ]
    },
    {
      "cell_type": "markdown",
      "metadata": {
        "id": "tChFbTDTXDRs",
        "colab_type": "text"
      },
      "source": [
        "**Ejercicio 2:**\n",
        "\n",
        "Revertir la palabra 'Hello world'."
      ]
    },
    {
      "cell_type": "code",
      "metadata": {
        "id": "3wqNwG8NS5a2",
        "colab_type": "code",
        "outputId": "59bf9d7b-5fc5-4e20-b1c0-cb0ed8d1cd0f",
        "colab": {
          "base_uri": "https://localhost:8080/",
          "height": 34
        }
      },
      "source": [
        "\"Hello world\"[::-1]\n"
      ],
      "execution_count": 20,
      "outputs": [
        {
          "output_type": "execute_result",
          "data": {
            "text/plain": [
              "'dlrow olleH'"
            ]
          },
          "metadata": {
            "tags": []
          },
          "execution_count": 20
        }
      ]
    },
    {
      "cell_type": "code",
      "metadata": {
        "id": "DO1XdlyJY86i",
        "colab_type": "code",
        "outputId": "985a413b-fa97-4e01-9586-386ca603f5ee",
        "colab": {
          "base_uri": "https://localhost:8080/",
          "height": 34
        }
      },
      "source": [
        "len(\"Hello world\")"
      ],
      "execution_count": 0,
      "outputs": [
        {
          "output_type": "execute_result",
          "data": {
            "text/plain": [
              "11"
            ]
          },
          "metadata": {
            "tags": []
          },
          "execution_count": 7
        }
      ]
    },
    {
      "cell_type": "markdown",
      "metadata": {
        "id": "pJQ3T7giXK6n",
        "colab_type": "text"
      },
      "source": [
        "**Ejercicio 3:**\n",
        "\n",
        "Cree la siguiente lista [0,0,0] de 2 formas distintas."
      ]
    },
    {
      "cell_type": "code",
      "metadata": {
        "id": "4Zs1YbCJcs66",
        "colab_type": "code",
        "colab": {
          "base_uri": "https://localhost:8080/",
          "height": 34
        },
        "outputId": "0488d6b5-bd4b-4e6b-81bf-ca23cba1a9c3"
      },
      "source": [
        "lista = [0]*3\n",
        "lista"
      ],
      "execution_count": 27,
      "outputs": [
        {
          "output_type": "execute_result",
          "data": {
            "text/plain": [
              "[0, 0, 0]"
            ]
          },
          "metadata": {
            "tags": []
          },
          "execution_count": 27
        }
      ]
    },
    {
      "cell_type": "code",
      "metadata": {
        "id": "-NrXNfXcdGKf",
        "colab_type": "code",
        "colab": {
          "base_uri": "https://localhost:8080/",
          "height": 34
        },
        "outputId": "6456ec4c-e02d-41e1-a23b-0421a3934863"
      },
      "source": [
        "n = 2\n",
        "lista = []\n",
        "for i in range(3):\n",
        "  lista.append(0)\n",
        "lista\n",
        "  "
      ],
      "execution_count": 30,
      "outputs": [
        {
          "output_type": "execute_result",
          "data": {
            "text/plain": [
              "[0, 0, 0]"
            ]
          },
          "metadata": {
            "tags": []
          },
          "execution_count": 30
        }
      ]
    },
    {
      "cell_type": "markdown",
      "metadata": {
        "id": "yUhIGt1MXPJ9",
        "colab_type": "text"
      },
      "source": [
        "**Ejercicio 4:**\n",
        "\n",
        "Cambie la palabra 'hello' por 'goodbye'"
      ]
    },
    {
      "cell_type": "code",
      "metadata": {
        "id": "5KOufWplXKbL",
        "colab_type": "code",
        "colab": {}
      },
      "source": [
        "lista = [1, 2, [3, 4, ('hello')]]"
      ],
      "execution_count": 0,
      "outputs": []
    },
    {
      "cell_type": "code",
      "metadata": {
        "id": "5zvsIG91dokt",
        "colab_type": "code",
        "colab": {
          "base_uri": "https://localhost:8080/",
          "height": 34
        },
        "outputId": "ff948ac1-324a-4d62-b9f5-63e4921c2c09"
      },
      "source": [
        "lista[2][2] = 'goodbye'\n",
        "lista"
      ],
      "execution_count": 33,
      "outputs": [
        {
          "output_type": "execute_result",
          "data": {
            "text/plain": [
              "[1, 2, [3, 4, 'goodbye']]"
            ]
          },
          "metadata": {
            "tags": []
          },
          "execution_count": 33
        }
      ]
    },
    {
      "cell_type": "markdown",
      "metadata": {
        "id": "G5gvlXj7XkB4",
        "colab_type": "text"
      },
      "source": [
        "**Ejercicio 5:**\n",
        "\n",
        "Obtenga la palabra 'hello' de los siguiente ejemplos"
      ]
    },
    {
      "cell_type": "code",
      "metadata": {
        "id": "7LZqtfpzXJ3e",
        "colab_type": "code",
        "colab": {
          "base_uri": "https://localhost:8080/",
          "height": 34
        },
        "outputId": "b094ea05-9ff1-439e-9ca1-999de82858af"
      },
      "source": [
        "d1 = {'simple_key':'hello'}\n",
        "d1['simple_key']"
      ],
      "execution_count": 35,
      "outputs": [
        {
          "output_type": "execute_result",
          "data": {
            "text/plain": [
              "'hello'"
            ]
          },
          "metadata": {
            "tags": []
          },
          "execution_count": 35
        }
      ]
    },
    {
      "cell_type": "code",
      "metadata": {
        "id": "0e7JZVDHXtup",
        "colab_type": "code",
        "colab": {
          "base_uri": "https://localhost:8080/",
          "height": 34
        },
        "outputId": "f0369a0b-a89e-4630-95b2-e2876f48aadd"
      },
      "source": [
        "d2 = {'k1':{'k2':'hello'}}\n",
        "d2['k1']['k2']"
      ],
      "execution_count": 36,
      "outputs": [
        {
          "output_type": "execute_result",
          "data": {
            "text/plain": [
              "'hello'"
            ]
          },
          "metadata": {
            "tags": []
          },
          "execution_count": 36
        }
      ]
    },
    {
      "cell_type": "code",
      "metadata": {
        "id": "iIRA-K9kZFxw",
        "colab_type": "code",
        "colab": {
          "base_uri": "https://localhost:8080/",
          "height": 34
        },
        "outputId": "2c45adcc-8638-4f97-c7a8-002f40942794"
      },
      "source": [
        "estacion = {\n",
        "    \"cate\": \"CO\",\n",
        "    \"cod\": \"105062\",\n",
        "    \"cod_old\": \"000349\",\n",
        "    \"estado\": \"DIFERIDO\",\n",
        "    \"ico\": \"M\",\n",
        "    \"lat\": -5.67175,\n",
        "    \"lon\": -78.89767,\n",
        "    \"nom\": \"hello\"\n",
        "}\n",
        "estacion[\"nom\"]"
      ],
      "execution_count": 37,
      "outputs": [
        {
          "output_type": "execute_result",
          "data": {
            "text/plain": [
              "'hello'"
            ]
          },
          "metadata": {
            "tags": []
          },
          "execution_count": 37
        }
      ]
    },
    {
      "cell_type": "markdown",
      "metadata": {
        "id": "VWq1nlZTXzDJ",
        "colab_type": "text"
      },
      "source": [
        "**Ejercicio 6:**\n",
        "\n",
        "¿Cuantos números por encima de 20 existen en la siguiente lista. Resuelvalo usando for."
      ]
    },
    {
      "cell_type": "code",
      "metadata": {
        "id": "HrFRXOsyXx-y",
        "colab_type": "code",
        "colab": {
          "base_uri": "https://localhost:8080/",
          "height": 119
        },
        "outputId": "a0db0337-13d5-4f8d-8213-1c144d24b1e2"
      },
      "source": [
        "lista = [10, 40, 60, 70, 80]\n",
        "mayores = []\n",
        "for i in lista:\n",
        "  if i > 20:\n",
        "    print(\"{} es un número mayor que 20\".format(i))\n",
        "    mayores.append(i)\n",
        "  elif i == 20:\n",
        "    print(\"{} es 20\".format(i))\n",
        "  else:\n",
        "    print(\"{} es menor que 20\".format(i))\n",
        "print(\"Son {} números mayores que 20\".format(len(mayores)))"
      ],
      "execution_count": 43,
      "outputs": [
        {
          "output_type": "stream",
          "text": [
            "10 es menor que 20\n",
            "40 es un número mayor que 20\n",
            "60 es un número mayor que 20\n",
            "70 es un número mayor que 20\n",
            "80 es un número mayor que 20\n",
            "Son 4 números mayores que 20\n"
          ],
          "name": "stdout"
        }
      ]
    },
    {
      "cell_type": "markdown",
      "metadata": {
        "id": "bJADk5f6YAZ7",
        "colab_type": "text"
      },
      "source": [
        "**Ejercicio 7:**\n",
        "\n",
        "Crear un programa que mencione si un número es positivo, negativo o cero."
      ]
    },
    {
      "cell_type": "code",
      "metadata": {
        "id": "NuVNDFnRX_97",
        "colab_type": "code",
        "colab": {
          "base_uri": "https://localhost:8080/",
          "height": 102
        },
        "outputId": "09ea6a04-79f1-44f4-beea-0d37888796f4"
      },
      "source": [
        "num = [0, -2, 4, 5, 6]\n",
        "for i in num:\n",
        "  if i < 0:\n",
        "    print(\"{} es negativo\".format(i))\n",
        "  elif i == 0:\n",
        "    print(\"{} es igual a cero\".format(i))\n",
        "  else:\n",
        "    print(\"{} es mayor que cero\".format(i))"
      ],
      "execution_count": 46,
      "outputs": [
        {
          "output_type": "stream",
          "text": [
            "0 es igual a cero\n",
            "-2 es negativo\n",
            "4 es mayor que cero\n",
            "5 es mayor que cero\n",
            "6 es mayor que cero\n"
          ],
          "name": "stdout"
        }
      ]
    },
    {
      "cell_type": "markdown",
      "metadata": {
        "id": "q7pw8cS8YNzR",
        "colab_type": "text"
      },
      "source": [
        "**Ejercicio 8:**\n",
        "\n",
        "Crear un programa al que se le ingrese grados Kelvin y devuelva Farenheit y Celcius."
      ]
    },
    {
      "cell_type": "code",
      "metadata": {
        "id": "vnTX42BBh4eb",
        "colab_type": "code",
        "colab": {
          "base_uri": "https://localhost:8080/",
          "height": 51
        },
        "outputId": "c093db34-21f4-4871-8565-4a8eb823c9df"
      },
      "source": [
        "grado = int(input())\n",
        "print(\"{} grados Kelvin es {} grados Celsius y {} grados Farenheit\".format(grado, grado - 273, 1.8*grado - 459.4))"
      ],
      "execution_count": 57,
      "outputs": [
        {
          "output_type": "stream",
          "text": [
            "5\n",
            "5 grados Kelvin es -268 grados Celsius y -450.4 grados Farenheit\n"
          ],
          "name": "stdout"
        }
      ]
    }
  ]
}